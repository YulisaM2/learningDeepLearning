{
 "cells": [
  {
   "cell_type": "code",
   "execution_count": 3,
   "metadata": {},
   "outputs": [],
   "source": [
    "import tensorflow as tf\n",
    "from keras.preprocessing.image import ImageDataGenerator"
   ]
  },
  {
   "cell_type": "code",
   "execution_count": 4,
   "metadata": {},
   "outputs": [
    {
     "name": "stdout",
     "output_type": "stream",
     "text": [
      "Found 8000 images belonging to 2 classes.\n"
     ]
    }
   ],
   "source": [
    "# Data processing of Training Set (images)\n",
    "# Applying transformations (image augmentation) to avoid overfitting\n",
    "train_datagen = ImageDataGenerator(\n",
    "    rescale=1./255,\n",
    "    shear_range=0.2,\n",
    "    zoom_range=0.2,\n",
    "    horizontal_flip=True\n",
    ")\n",
    "\n",
    "training_set = train_datagen.flow_from_directory(\n",
    "    'dataset/training_set',\n",
    "    target_size=(64,64),\n",
    "    batch_size=32,\n",
    "#     For this case is binary, not categorical\n",
    "    class_mode='binary'\n",
    ")"
   ]
  },
  {
   "cell_type": "code",
   "execution_count": 5,
   "metadata": {},
   "outputs": [
    {
     "name": "stdout",
     "output_type": "stream",
     "text": [
      "Found 2000 images belonging to 2 classes.\n"
     ]
    }
   ],
   "source": [
    "# Data processing of Test Set\n",
    "test_datagen = ImageDataGenerator(rescale=1./255)\n",
    "test_set = test_datagen.flow_from_directory(\n",
    "    'dataset/test_set',\n",
    "    target_size=(64,64),\n",
    "    batch_size=32,\n",
    "    class_mode='binary'\n",
    ")"
   ]
  },
  {
   "cell_type": "code",
   "execution_count": 6,
   "metadata": {},
   "outputs": [],
   "source": [
    "# Building CNN\n",
    "cnn = tf.keras.models.Sequential()\n",
    "\n",
    "# Convolution Layer\n",
    "cnn.add(tf.keras.layers.Conv2D(filters=32,kernel_size=3,activation='relu',input_shape=[64,64,3]))\n",
    "\n",
    "# Max Pooling Layer\n",
    "cnn.add(tf.keras.layers.MaxPool2D(pool_size=2,strides=2))\n",
    "\n",
    "# Second Convolution Layer\n",
    "cnn.add(tf.keras.layers.Conv2D(filters=32,kernel_size=3,activation='relu'))\n",
    "\n",
    "# Flattening Layer\n",
    "cnn.add(tf.keras.layers.Flatten())\n",
    "\n",
    "# Full connection\n",
    "cnn.add(tf.keras.layers.Dense(units=128,activation='relu'))\n",
    "\n",
    "# Output Layer\n",
    "cnn.add(tf.keras.layers.Dense(units=1,activation='sigmoid'))"
   ]
  },
  {
   "cell_type": "code",
   "execution_count": 7,
   "metadata": {},
   "outputs": [],
   "source": [
    "# Training CNN\n",
    "cnn.compile(optimizer='adam', loss='binary_crossentropy',metrics=['accuracy'])"
   ]
  },
  {
   "cell_type": "code",
   "execution_count": null,
   "metadata": {},
   "outputs": [
    {
     "name": "stdout",
     "output_type": "stream",
     "text": [
      "Epoch 1/25\n",
      "250/250 [==============================] - 56s 225ms/step - loss: 0.6809 - accuracy: 0.5786 - val_loss: 0.6480 - val_accuracy: 0.6335\n",
      "Epoch 2/25\n",
      "250/250 [==============================] - 54s 215ms/step - loss: 0.6233 - accuracy: 0.6626 - val_loss: 0.6096 - val_accuracy: 0.6925\n",
      "Epoch 3/25\n",
      "250/250 [==============================] - 53s 211ms/step - loss: 0.6010 - accuracy: 0.6749 - val_loss: 0.5770 - val_accuracy: 0.7040\n",
      "Epoch 4/25\n",
      "250/250 [==============================] - 55s 219ms/step - loss: 0.5605 - accuracy: 0.7144 - val_loss: 0.5300 - val_accuracy: 0.7385\n",
      "Epoch 5/25\n",
      "250/250 [==============================] - 55s 219ms/step - loss: 0.5318 - accuracy: 0.7333 - val_loss: 0.5210 - val_accuracy: 0.7325\n",
      "Epoch 6/25\n",
      "250/250 [==============================] - 56s 222ms/step - loss: 0.5079 - accuracy: 0.7484 - val_loss: 0.5594 - val_accuracy: 0.7100\n",
      "Epoch 7/25\n",
      "250/250 [==============================] - 57s 227ms/step - loss: 0.4865 - accuracy: 0.7649 - val_loss: 0.4845 - val_accuracy: 0.7555\n",
      "Epoch 8/25\n",
      "250/250 [==============================] - 55s 221ms/step - loss: 0.4757 - accuracy: 0.7711 - val_loss: 0.4903 - val_accuracy: 0.7615\n",
      "Epoch 9/25\n",
      "250/250 [==============================] - 55s 219ms/step - loss: 0.4598 - accuracy: 0.7782 - val_loss: 0.5452 - val_accuracy: 0.7325\n",
      "Epoch 10/25\n",
      "250/250 [==============================] - 56s 223ms/step - loss: 0.4379 - accuracy: 0.7940 - val_loss: 0.4761 - val_accuracy: 0.7810\n",
      "Epoch 11/25\n",
      "250/250 [==============================] - 52s 207ms/step - loss: 0.4298 - accuracy: 0.7968 - val_loss: 0.4733 - val_accuracy: 0.7800\n",
      "Epoch 12/25\n",
      "250/250 [==============================] - 53s 212ms/step - loss: 0.4079 - accuracy: 0.8179 - val_loss: 0.4705 - val_accuracy: 0.7920\n",
      "Epoch 13/25\n",
      "250/250 [==============================] - 52s 208ms/step - loss: 0.4024 - accuracy: 0.8151 - val_loss: 0.4976 - val_accuracy: 0.7780\n",
      "Epoch 14/25\n",
      "250/250 [==============================] - 52s 207ms/step - loss: 0.3985 - accuracy: 0.8191 - val_loss: 0.4737 - val_accuracy: 0.7775\n",
      "Epoch 15/25\n",
      "250/250 [==============================] - 52s 209ms/step - loss: 0.3786 - accuracy: 0.8265 - val_loss: 0.4824 - val_accuracy: 0.7670\n",
      "Epoch 16/25\n",
      "250/250 [==============================] - 52s 207ms/step - loss: 0.3678 - accuracy: 0.8366 - val_loss: 0.4650 - val_accuracy: 0.8015\n",
      "Epoch 17/25\n",
      "250/250 [==============================] - 52s 206ms/step - loss: 0.3495 - accuracy: 0.8415 - val_loss: 0.5420 - val_accuracy: 0.7590\n",
      "Epoch 18/25\n",
      "250/250 [==============================] - 52s 207ms/step - loss: 0.3546 - accuracy: 0.8435 - val_loss: 0.4725 - val_accuracy: 0.7960\n",
      "Epoch 19/25\n",
      " 45/250 [====>.........................] - ETA: 39s - loss: 0.3250 - accuracy: 0.8535"
     ]
    }
   ],
   "source": [
    "# Training on training set and evaluating it on test set as well\n",
    "cnn.fit(x=training_set,validation_data=test_set,epochs=25)"
   ]
  },
  {
   "cell_type": "code",
   "execution_count": null,
   "metadata": {},
   "outputs": [],
   "source": [
    "# Making a prediction (image is a dog)\n",
    "import numpy as np\n",
    "from keras.preprocessing import image\n",
    "\n",
    "test_image = image.load_img('dataset/single_prediction/cat_or_dog_1.jpg', target_size=(64,64))\n",
    "test_image = image.img_to_array(test_image)\n",
    "\n",
    "# Reshaping array so it has same format like training set (batch must be added on the first index)\n",
    "test_image = np.expand_dims(test_image,axis=0)\n",
    "\n",
    "result = cnn.predict(test_image)\n",
    "training_set.class_indices\n",
    "\n",
    "if result[0][0] == 1:\n",
    "    prediction = 'dog'\n",
    "else:\n",
    "    prediction = 'cat'"
   ]
  },
  {
   "cell_type": "code",
   "execution_count": null,
   "metadata": {},
   "outputs": [],
   "source": [
    "print(prediction)"
   ]
  }
 ],
 "metadata": {
  "kernelspec": {
   "display_name": "Python 3",
   "language": "python",
   "name": "python3"
  },
  "language_info": {
   "codemirror_mode": {
    "name": "ipython",
    "version": 3
   },
   "file_extension": ".py",
   "mimetype": "text/x-python",
   "name": "python",
   "nbconvert_exporter": "python",
   "pygments_lexer": "ipython3",
   "version": "3.7.6"
  }
 },
 "nbformat": 4,
 "nbformat_minor": 4
}
