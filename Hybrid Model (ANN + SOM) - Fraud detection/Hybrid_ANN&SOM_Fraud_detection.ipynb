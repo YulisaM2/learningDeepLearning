{
 "cells": [
  {
   "cell_type": "code",
   "execution_count": 1,
   "metadata": {},
   "outputs": [],
   "source": [
    "import numpy as np\n",
    "import matplotlib.pyplot as plt\n",
    "import pandas as pd"
   ]
  },
  {
   "cell_type": "code",
   "execution_count": 2,
   "metadata": {},
   "outputs": [],
   "source": [
    "dataset = pd.read_csv('Credit_Card_Applications.csv')\n",
    "X = dataset.iloc[:, :-1].values \n",
    "y = dataset.iloc[:, -1].values"
   ]
  },
  {
   "cell_type": "code",
   "execution_count": 3,
   "metadata": {},
   "outputs": [],
   "source": [
    "# SOM to identify current fradulent clients\n",
    "\n",
    "# Feature scaling \n",
    "from sklearn.preprocessing import MinMaxScaler\n",
    "sc = MinMaxScaler(feature_range = (0,1))\n",
    "X = sc.fit_transform(X)"
   ]
  },
  {
   "cell_type": "code",
   "execution_count": 4,
   "metadata": {},
   "outputs": [],
   "source": [
    "# Training SOM\n",
    "from minisom import MiniSom\n",
    "som = MiniSom(x=10, y=10, input_len= 15, sigma= 1.0, learning_rate = 0.5)\n",
    "som.random_weights_init(X)\n",
    "som.train_random(data = X, num_iteration = 100)"
   ]
  },
  {
   "cell_type": "code",
   "execution_count": 8,
   "metadata": {},
   "outputs": [
    {
     "data": {
      "image/png": "[encoded data removed]",
      "text/plain": [
       "<Figure size 432x288 with 2 Axes>"
      ]
     },
     "metadata": {
      "needs_background": "light"
     },
     "output_type": "display_data"
    }
   ],
   "source": [
    "# Visualize SOM\n",
    "from pylab import bone, pcolor, colorbar, plot, show\n",
    "bone()\n",
    "# Getting MID (mean intermediate distance between all the nodes and the BMU within the neighborhood defined by sigma), higher(whiter) == further away from neighbors == more it is an outlier == fraud\n",
    "pcolor(som.distance_map().T)\n",
    "colorbar()\n",
    "\n",
    "# Distinguishing between customers who got approval while fradulent and those who did not (is more relevant to attack fraud that is within the company now, than those that got rejected)\n",
    "# Red circle == not approved, green square == approved\n",
    "markers = ['o', 's']\n",
    "colors = ['r', 'g']\n",
    "for i,x in enumerate(X):\n",
    "    w = som.winner(x)\n",
    "#     Centering marker\n",
    "    plot(w[0] + 0.5, w[1] + 0.5, markers[y[i]], markeredgecolor = colors[y[i]], markerfacecolor = 'None', markersize = 10, markeredgewidth = 2)\n",
    "\n",
    "show()"
   ]
  },
  {
   "cell_type": "code",
   "execution_count": 10,
   "metadata": {},
   "outputs": [],
   "source": [
    "# Getting list of fradulent clients (those in white clusters) using their coordinates\n",
    "mappings = som.win_map(X)\n",
    "frauds = np.concatenate((mappings[(4,4)], mappings[(8,2)]), axis = 0)\n",
    "frauds = np.concatenate((frauds, mappings[(1,5)]), axis = 0)\n",
    "frauds = sc.inverse_transform(frauds)"
   ]
  },
  {
   "cell_type": "code",
   "execution_count": 11,
   "metadata": {},
   "outputs": [],
   "source": [
    "# ANN to rank the clients by probaibility of fradulent activity\n",
    "\n",
    "# Creating matrix of features using original dataset (remember that id is not relevant)\n",
    "clients = dataset.iloc[:, 1:].values \n",
    "\n",
    "# Creating dependent variable (Check if customer from list is in fraud list and then say that 0 no fraud, 1 is fraud)\n",
    "is_fraud = np.zeros(len(dataset))\n",
    "for i in range(len(dataset)):\n",
    "    if dataset.iloc[i,0] in frauds:\n",
    "        is_fraud[i] = 1"
   ]
  },
  {
   "cell_type": "code",
   "execution_count": 12,
   "metadata": {},
   "outputs": [
    {
     "name": "stdout",
     "output_type": "stream",
     "text": [
      "Epoch 1/2\n",
      "690/690 [==============================] - 2s 3ms/step - loss: 0.4568 - accuracy: 0.9739: 0s - loss: 0.4734 - accuracy: \n",
      "Epoch 2/2\n",
      "690/690 [==============================] - 2s 3ms/step - loss: 0.2079 - accuracy: 0.9739\n"
     ]
    },
    {
     "data": {
      "text/plain": [
       "<tensorflow.python.keras.callbacks.History at 0x1a36c5fc90>"
      ]
     },
     "execution_count": 12,
     "metadata": {},
     "output_type": "execute_result"
    }
   ],
   "source": [
    "# Train ANN\n",
    "\n",
    "# Feature Scaling\n",
    "from sklearn.preprocessing import StandardScaler\n",
    "sc = StandardScaler()\n",
    "# For deeplearning we must scale all the features\n",
    "clients = sc.fit_transform(clients)\n",
    "\n",
    "# Building the ANN\n",
    "from keras.models import Sequential\n",
    "from keras.layers import Dense\n",
    "# Initializing it\n",
    "classifier = Sequential()\n",
    "\n",
    "# Adding input layer\n",
    "classifier.add(Dense(units=2,kernel_initializer = 'uniform', activation='relu', input_dim = 15))\n",
    "\n",
    "# Adding output layer\n",
    "classifier.add(Dense(units=1,kernel_initializer = 'uniform', activation='sigmoid'))\n",
    "\n",
    "# Training ANN (adam uses stochastic descent)\n",
    "classifier.compile(optimizer='adam', loss= 'binary_crossentropy', metrics= ['accuracy'])\n",
    "classifier.fit(clients,is_fraud,batch_size=1,epochs=2)"
   ]
  },
  {
   "cell_type": "code",
   "execution_count": 15,
   "metadata": {},
   "outputs": [],
   "source": [
    "#  Make prediction (probabilities of fraud)\n",
    "y_pred = classifier.predict(clients)\n",
    "# Using this sintaxis as dataset is a 2D array but only need id\n",
    "y_pred = np.concatenate((dataset.iloc[:,0 : 1].values, y_pred), axis = 1)"
   ]
  },
  {
   "cell_type": "code",
   "execution_count": 16,
   "metadata": {},
   "outputs": [
    {
     "name": "stdout",
     "output_type": "stream",
     "text": [
      "[[1.57761560e+07 3.45414579e-02]\n",
      " [1.57395480e+07 4.60689068e-02]\n",
      " [1.56628540e+07 3.34056914e-02]\n",
      " ...\n",
      " [1.56754500e+07 5.52454591e-02]\n",
      " [1.57764940e+07 1.75040513e-01]\n",
      " [1.55924120e+07 6.00260720e-02]]\n"
     ]
    }
   ],
   "source": [
    "print(y_pred)"
   ]
  },
  {
   "cell_type": "code",
   "execution_count": 20,
   "metadata": {},
   "outputs": [],
   "source": [
    "# Rank predictions by sorting them based on their probabilities (from lowest to greatest)\n",
    "y_pred = y_pred[y_pred[:, 1].argsort()]"
   ]
  },
  {
   "cell_type": "code",
   "execution_count": 19,
   "metadata": {},
   "outputs": [
    {
     "name": "stdout",
     "output_type": "stream",
     "text": [
      "[[1.55991520e+07 7.41446018e-03]\n",
      " [1.56009750e+07 7.99959898e-03]\n",
      " [1.57114460e+07 8.58187675e-03]\n",
      " ...\n",
      " [1.55715710e+07 3.14351082e-01]\n",
      " [1.56647930e+07 3.14351082e-01]\n",
      " [1.58098370e+07 3.14351082e-01]]\n"
     ]
    }
   ],
   "source": [
    "print(y_pred)"
   ]
  },
  {
   "cell_type": "code",
   "execution_count": null,
   "metadata": {},
   "outputs": [],
   "source": []
  }
 ],
 "metadata": {
  "kernelspec": {
   "display_name": "Python 3",
   "language": "python",
   "name": "python3"
  },
  "language_info": {
   "codemirror_mode": {
    "name": "ipython",
    "version": 3
   },
   "file_extension": ".py",
   "mimetype": "text/x-python",
   "name": "python",
   "nbconvert_exporter": "python",
   "pygments_lexer": "ipython3",
   "version": "3.7.6"
  }
 },
 "nbformat": 4,
 "nbformat_minor": 4
}
