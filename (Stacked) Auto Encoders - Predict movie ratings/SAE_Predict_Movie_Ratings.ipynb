{
 "cells": [
  {
   "cell_type": "code",
   "execution_count": 1,
   "metadata": {},
   "outputs": [],
   "source": [
    "import numpy as np\n",
    "import pandas as pd\n",
    "import torch\n",
    "import torch.nn as nn\n",
    "import torch.nn.parallel\n",
    "import torch.optim as optim\n",
    "import torch.utils.data\n",
    "from torch.autograd import Variable"
   ]
  },
  {
   "cell_type": "code",
   "execution_count": 2,
   "metadata": {},
   "outputs": [],
   "source": [
    "movies = pd.read_csv('ml-1m/movies.dat', sep='::', header = None, engine='python', encoding = 'latin-1')\n",
    "user = pd.read_csv('ml-1m/users.dat', sep='::', header = None, engine='python', encoding = 'latin-1')\n",
    "ratings = pd.read_csv('ml-1m/ratings.dat', sep='::', header = None, engine='python', encoding = 'latin-1')"
   ]
  },
  {
   "cell_type": "code",
   "execution_count": 3,
   "metadata": {},
   "outputs": [],
   "source": [
    "# Creating training and test set\n",
    "training_set = pd.read_csv('ml-100k/u1.base', delimiter='\\t')\n",
    "training_set = np.array(training_set, dtype='int')\n",
    "test_set = pd.read_csv('ml-100k/u1.test', delimiter='\\t')\n",
    "test_set = np.array(test_set, dtype='int')"
   ]
  },
  {
   "cell_type": "code",
   "execution_count": 4,
   "metadata": {},
   "outputs": [],
   "source": [
    "# Obtaining the total number of users and movies to create 2d matrix that contains the movies corresponding to each user\n",
    "\n",
    "# Largest id for customer and movie might be on training or test set, thus this verification\n",
    "nb_users = int(max(max(training_set[:,0]), max(test_set[:,0])))\n",
    "nb_movies = int(max(max(training_set[:,1]), max(test_set[:,1])))"
   ]
  },
  {
   "cell_type": "code",
   "execution_count": 5,
   "metadata": {},
   "outputs": [],
   "source": [
    "# Converting 2d array where x axis = users (observations) and y axis = movies (features), which is what the RBM expects\n",
    "def convert(data):\n",
    "#     Using lists for pytorch\n",
    "    new_data = []\n",
    "    for id_users in range(1,nb_users + 1):\n",
    "#         Getting all the movies and their ratings per user, and adding it to new_data\n",
    "        id_movies = data[:,1][data[:,0] == id_users]\n",
    "        id_ratings = data[:,2][data[:,0] == id_users]\n",
    "#         If user did not watch movie, rating must be 0\n",
    "        ratings = np.zeros(nb_movies)\n",
    "        ratings[id_movies - 1] = id_ratings\n",
    "        new_data.append(list(ratings))\n",
    "    return new_data"
   ]
  },
  {
   "cell_type": "code",
   "execution_count": 6,
   "metadata": {},
   "outputs": [],
   "source": [
    "training_set = convert(training_set)\n",
    "test_set = convert(test_set)"
   ]
  },
  {
   "cell_type": "code",
   "execution_count": 7,
   "metadata": {},
   "outputs": [],
   "source": [
    "# Converting lists to torch tensors\n",
    "training_set = torch.FloatTensor(training_set)\n",
    "test_set = torch.FloatTensor(test_set)"
   ]
  },
  {
   "cell_type": "code",
   "execution_count": 8,
   "metadata": {},
   "outputs": [],
   "source": [
    "# Creating model for SAE\n",
    "class SAE(nn.Module):\n",
    "    def __init__(self, ):\n",
    "#         Inheritance from Module class\n",
    "        super(SAE, self).__init__()\n",
    "    \n",
    "#         First full connection (layer)\n",
    "#         Number of features (input values) == nb_movies, number of hidden nodes == 20 (tested diff values)\n",
    "        self.fc1 = nn.Linear(nb_movies, 20)\n",
    "#       Second full connection\n",
    "        self.fc2 = nn.Linear(20, 10)\n",
    "#       Third full connection (where decoding starts as its last layer before output layer)\n",
    "        self.fc3 = nn.Linear(10, 20)\n",
    "#       Last full connection (output layer, # input nodes == # output nodes)\n",
    "        self.fc4 = nn.Linear(20, nb_movies)\n",
    "#      Sigmoid performed better than relu\n",
    "        self.activation = nn.Sigmoid()\n",
    "    \n",
    "#     For encoding and decoding data, and applying activation functions at each full connection\n",
    "#     Returns vector of predicted ratings \n",
    "#     X == input data of features vector\n",
    "    def forward(self, x):\n",
    "#         Applying linear transformation to input vector and then activating function\n",
    "        x = self.activation(self.fc1(x))\n",
    "        x = self.activation(self.fc2(x))\n",
    "        x = self.activation(self.fc3(x))\n",
    "        x = self.fc4(x)\n",
    "        return x"
   ]
  },
  {
   "cell_type": "code",
   "execution_count": 10,
   "metadata": {},
   "outputs": [],
   "source": [
    "sae = SAE()\n",
    "# Using mean square error for loss\n",
    "criterion = nn.MSELoss()\n",
    "# Performed better with RMSProp rather than Adam\n",
    "optimizer = optim.RMSprop(sae.parameters(),lr = 0.01, weight_decay = 0.5)"
   ]
  },
  {
   "cell_type": "code",
   "execution_count": null,
   "metadata": {},
   "outputs": [],
   "source": [
    "# Training model\n"
   ]
  }
 ],
 "metadata": {
  "kernelspec": {
   "display_name": "Python 3",
   "language": "python",
   "name": "python3"
  },
  "language_info": {
   "codemirror_mode": {
    "name": "ipython",
    "version": 3
   },
   "file_extension": ".py",
   "mimetype": "text/x-python",
   "name": "python",
   "nbconvert_exporter": "python",
   "pygments_lexer": "ipython3",
   "version": "3.7.7"
  }
 },
 "nbformat": 4,
 "nbformat_minor": 4
}
