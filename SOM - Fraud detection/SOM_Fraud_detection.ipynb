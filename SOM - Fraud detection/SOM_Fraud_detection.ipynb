{
 "cells": [
  {
   "cell_type": "code",
   "execution_count": 9,
   "metadata": {},
   "outputs": [],
   "source": [
    "import numpy as np\n",
    "import matplotlib.pyplot as plt\n",
    "import pandas as pd"
   ]
  },
  {
   "cell_type": "code",
   "execution_count": 10,
   "metadata": {},
   "outputs": [],
   "source": [
    "dataset = pd.read_csv('Credit_Card_Applications.csv')\n",
    "X = dataset.iloc[:, :-1].values \n",
    "y = dataset.iloc[:, -1].values"
   ]
  },
  {
   "cell_type": "code",
   "execution_count": 16,
   "metadata": {},
   "outputs": [
    {
     "name": "stdout",
     "output_type": "stream",
     "text": [
      "[[8.42681467e-01 1.00000000e+00 1.25263158e-01 ... 5.00000000e-01\n",
      "  5.00000000e-02 1.21200000e-02]\n",
      " [6.96090562e-01 0.00000000e+00 1.34135338e-01 ... 5.00000000e-01\n",
      "  8.00000000e-02 0.00000000e+00]\n",
      " [3.88981656e-01 0.00000000e+00 2.38045113e-01 ... 5.00000000e-01\n",
      "  1.40000000e-01 0.00000000e+00]\n",
      " ...\n",
      " [4.39420332e-01 0.00000000e+00 7.63909774e-02 ... 5.00000000e-01\n",
      "  5.00000000e-02 0.00000000e+00]\n",
      " [8.44034934e-01 0.00000000e+00 2.05563910e-01 ... 5.00000000e-01\n",
      "  6.00000000e-02 1.10000000e-04]\n",
      " [1.06907888e-01 1.00000000e+00 4.09774436e-01 ... 0.00000000e+00\n",
      "  2.80000000e-01 0.00000000e+00]]\n"
     ]
    }
   ],
   "source": [
    "print(X)"
   ]
  },
  {
   "cell_type": "code",
   "execution_count": 11,
   "metadata": {},
   "outputs": [],
   "source": [
    "# Feature scaling \n",
    "from sklearn.preprocessing import MinMaxScaler\n",
    "sc = MinMaxScaler(feature_range = (0,1))\n",
    "X = sc.fit_transform(X)"
   ]
  },
  {
   "cell_type": "code",
   "execution_count": 12,
   "metadata": {},
   "outputs": [],
   "source": [
    "# Training SOM\n",
    "from minisom import MiniSom\n",
    "# x and y are used for matrix dimensions, input_len for # features, and sigma refers to BMU's radius reach \n",
    "som = MiniSom(x=10, y=10, input_len= 15, sigma= 1.0, learning_rate = 0.5)\n",
    "som.random_weights_init(X)\n",
    "som.train_random(data = X, num_iteration = 100)"
   ]
  },
  {
   "cell_type": "code",
   "execution_count": 13,
   "metadata": {},
   "outputs": [
    {
     "data": {
      "image/png": "[encoded data removed]",
      "text/plain": [
       "<Figure size 432x288 with 2 Axes>"
      ]
     },
     "metadata": {
      "needs_background": "light"
     },
     "output_type": "display_data"
    }
   ],
   "source": [
    "# Visualize SOM\n",
    "from pylab import bone, pcolor, colorbar, plot, show\n",
    "bone()\n",
    "# Getting MID (mean intermediate distance between all the nodes and the BMU within the neighborhood defined by sigma), higher(whiter) == further away from neighbors == more it is an outlier == fraud\n",
    "pcolor(som.distance_map().T)\n",
    "colorbar()\n",
    "\n",
    "# Distinguishing between customers who got approval while fradulent and those who did not (is more relevant to attack fraud that is within the company now, than those that got rejected)\n",
    "# Red circle == not approved, green square == approved\n",
    "markers = ['o', 's']\n",
    "colors = ['r', 'g']\n",
    "for i,x in enumerate(X):\n",
    "    w = som.winner(x)\n",
    "#     Centering marker\n",
    "    plot(w[0] + 0.5, w[1] + 0.5, markers[y[i]], markeredgecolor = colors[y[i]], markerfacecolor = 'None', markersize = 10, markeredgewidth = 2)\n",
    "\n",
    "show()"
   ]
  },
  {
   "cell_type": "code",
   "execution_count": 18,
   "metadata": {},
   "outputs": [],
   "source": [
    "# Getting list of fradulent clients (those in white clusters) using their coordinates\n",
    "mappings = som.win_map(X)\n",
    "frauds = np.concatenate((mappings[(4,2)], mappings[(2,8)]), axis = 0)\n",
    "frauds = np.concatenate((frauds, mappings[(6,7)]), axis = 0)\n",
    "frauds = sc.inverse_transform(frauds)"
   ]
  },
  {
   "cell_type": "code",
   "execution_count": 19,
   "metadata": {},
   "outputs": [
    {
     "name": "stdout",
     "output_type": "stream",
     "text": [
      "[[1.5585855e+07 1.0000000e+00 4.0250000e+01 ... 2.0000000e+00\n",
      "  0.0000000e+00 1.2010000e+03]\n",
      " [1.5661412e+07 1.0000000e+00 4.8750000e+01 ... 2.0000000e+00\n",
      "  1.8100000e+02 1.6560000e+03]\n",
      " [1.5799785e+07 1.0000000e+00 5.6420000e+01 ... 2.0000000e+00\n",
      "  0.0000000e+00 1.6000000e+01]\n",
      " ...\n",
      " [1.5711759e+07 1.0000000e+00 2.2670000e+01 ... 2.0000000e+00\n",
      "  0.0000000e+00 1.0000000e+00]\n",
      " [1.5665181e+07 1.0000000e+00 3.5250000e+01 ... 2.0000000e+00\n",
      "  8.0000000e+01 1.0000000e+00]\n",
      " [1.5808223e+07 1.0000000e+00 3.1570000e+01 ... 2.0000000e+00\n",
      "  0.0000000e+00 1.0000000e+00]]\n"
     ]
    }
   ],
   "source": [
    "print(frauds)"
   ]
  },
  {
   "cell_type": "code",
   "execution_count": null,
   "metadata": {},
   "outputs": [],
   "source": []
  }
 ],
 "metadata": {
  "kernelspec": {
   "display_name": "Python 3",
   "language": "python",
   "name": "python3"
  },
  "language_info": {
   "codemirror_mode": {
    "name": "ipython",
    "version": 3
   },
   "file_extension": ".py",
   "mimetype": "text/x-python",
   "name": "python",
   "nbconvert_exporter": "python",
   "pygments_lexer": "ipython3",
   "version": "3.7.6"
  }
 },
 "nbformat": 4,
 "nbformat_minor": 4
}
