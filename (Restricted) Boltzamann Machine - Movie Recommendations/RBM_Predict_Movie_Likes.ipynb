{
 "cells": [
  {
   "cell_type": "code",
   "execution_count": 1,
   "metadata": {},
   "outputs": [],
   "source": [
    "import numpy as np\n",
    "import pandas as pd\n",
    "import torch\n",
    "import torch.nn as nn\n",
    "import torch.nn.parallel\n",
    "import torch.optim as optim\n",
    "import torch.utils.data\n",
    "from torch.autograd import Variable"
   ]
  },
  {
   "cell_type": "code",
   "execution_count": 2,
   "metadata": {},
   "outputs": [],
   "source": [
    "movies = pd.read_csv('ml-1m/movies.dat', sep='::', header = None, engine='python', encoding = 'latin-1')"
   ]
  },
  {
   "cell_type": "code",
   "execution_count": 4,
   "metadata": {},
   "outputs": [],
   "source": [
    "user = pd.read_csv('ml-1m/users.dat', sep='::', header = None, engine='python', encoding = 'latin-1')"
   ]
  },
  {
   "cell_type": "code",
   "execution_count": 5,
   "metadata": {},
   "outputs": [],
   "source": [
    "ratings = pd.read_csv('ml-1m/ratings.dat', sep='::', header = None, engine='python', encoding = 'latin-1')"
   ]
  },
  {
   "cell_type": "code",
   "execution_count": 12,
   "metadata": {},
   "outputs": [],
   "source": [
    "# Creating training and test set\n",
    "training_set = pd.read_csv('ml-100k/u1.base', delimiter='\\t')\n",
    "training_set = np.array(training_set, dtype='int')\n",
    "test_set = pd.read_csv('ml-100k/u1.test', delimiter='\\t')\n",
    "test_set = np.array(test_set, dtype='int')"
   ]
  },
  {
   "cell_type": "code",
   "execution_count": 20,
   "metadata": {},
   "outputs": [],
   "source": [
    "# Obtaining the total number of users and movies to create 2d matrix that contains the movies corresponding to each user\n",
    "\n",
    "# Largest id for customer and movie might be on training or test set, thus this verification\n",
    "nb_users = int(max(max(training_set[:,0]), max(test_set[:,0])))\n",
    "nb_movies = int(max(max(training_set[:,1]), max(test_set[:,1])))"
   ]
  },
  {
   "cell_type": "code",
   "execution_count": 24,
   "metadata": {},
   "outputs": [],
   "source": [
    "# Converting 2d array where x axis = users (observations) and y axis = movies (features), which is what the RBM expects\n",
    "def convert(data):\n",
    "#     Using lists for pytorch\n",
    "    new_data = []\n",
    "    for id_users in range(1,nb_users + 1):\n",
    "#         Getting all the movies and their ratings per user, and adding it to new_data\n",
    "        id_movies = data[:,1][data[:,0] == id_users]\n",
    "        id_ratings = data[:,2][data[:,0] == id_users]\n",
    "#         If user did not watch movie, rating must be 0\n",
    "        ratings = np.zeros(nb_movies)\n",
    "        ratings[id_movies - 1] = id_ratings\n",
    "        new_data.append(list(ratings))\n",
    "    return new_data"
   ]
  },
  {
   "cell_type": "code",
   "execution_count": 25,
   "metadata": {},
   "outputs": [],
   "source": [
    "training_set = convert(training_set)\n",
    "test_set = convert(test_set)"
   ]
  },
  {
   "cell_type": "code",
   "execution_count": 34,
   "metadata": {},
   "outputs": [],
   "source": [
    "# Converting lists to torch tensors\n",
    "training_set = torch.FloatTensor(training_set)\n",
    "test_set = torch.FloatTensor(test_set)"
   ]
  },
  {
   "cell_type": "code",
   "execution_count": 35,
   "metadata": {},
   "outputs": [],
   "source": [
    "# To predict whether a customer liked or not a movie we need to convert ratings into binary classfiers and mantain consistency with input/output of model\n",
    "# 1 == liked, 0 == disliked\n",
    "training_set[training_set == 0] = -1\n",
    "training_set[training_set == 1] = 0\n",
    "training_set[training_set == 2] = 0\n",
    "training_set[training_set >= 3] = 1\n",
    "\n",
    "test_set[test_set == 0] = -1\n",
    "test_set[test_set == 1] = 0\n",
    "test_set[test_set == 2] = 0\n",
    "test_set[test_set >= 3] = 1"
   ]
  },
  {
   "cell_type": "code",
   "execution_count": 39,
   "metadata": {},
   "outputs": [],
   "source": [
    "# Creating model for RBM\n",
    "class RBM():\n",
    "    def __init__(self, nv, nh):\n",
    "#         Initializing tensor of size nh nv filled with random #s from a normal distribution with mean 0 and variance 1 (also called the standard normal distribution)\n",
    "        self.W = torch.randn(nh, nv)\n",
    "#     Initializing bias for probabilities for visible nodes given a hidden node and for probabilities of hidden nodes given a visible node\n",
    "#     We need it to add a col to add element corresponding to batch size (following pytorch sintax)\n",
    "        self.a = torch.randn(1, nh)\n",
    "        self.b = torch.randn(1, nv)\n",
    "\n",
    "#   Where x is vn\n",
    "    def sample_h(self, x):\n",
    "        wx = torch.mm(x, self.W.t())\n",
    "#         Making sure that bias is included in each line of the batch\n",
    "        activation = wx + self.a.expand_as(wx)\n",
    "        p_h_given_v = torch.sigmoid(activation)\n",
    "#         Returning list of probabilities of hs being activated by v, and binary outcome of each hs being activated (bernoulli sampling)\n",
    "        return p_h_given_v, torch.bernoulli(p_h_given_v)\n",
    "\n",
    "#   For Gibbs sampling and predictions\n",
    "#   Where y is hn\n",
    "    def sample_v(self, y):\n",
    "        wy = torch.mm(y, self.W)\n",
    "        activation = wy + self.b.expand_as(wy)\n",
    "        p_v_given_h = torch.sigmoid(activation)\n",
    "        return p_v_given_h, torch.bernoulli(p_v_given_h)\n",
    "    \n",
    "#   For contrastive divergence\n",
    "#   v0  == input data (ratings), vk == vn visible after k-samplings, ph0 == probabilites 1st iter, phk == probabilities of h after k iter\n",
    "    def train(self, v0, vk, ph0, pk):\n",
    "        self.W += (torch.mm(v0.t(), ph0) - torch.mm(vk.t(), phk)).t()\n",
    "#         To mantain 2d\n",
    "        self.b += torch.sum((v0 - vk), 0)\n",
    "        self.a += torch.sum((ph0 - phk), 0)"
   ]
  },
  {
   "cell_type": "code",
   "execution_count": 40,
   "metadata": {},
   "outputs": [],
   "source": [
    "nv = len(training_set[0])\n",
    "nh = 100\n",
    "batch_size = 100\n",
    "rbm = RBM(nv, nh)"
   ]
  },
  {
   "cell_type": "code",
   "execution_count": 43,
   "metadata": {},
   "outputs": [
    {
     "name": "stdout",
     "output_type": "stream",
     "text": [
      "Epoch: 1 Loss: tensor(0.2502)\n",
      "Epoch: 2 Loss: tensor(0.2469)\n",
      "Epoch: 3 Loss: tensor(0.2460)\n",
      "Epoch: 4 Loss: tensor(0.2492)\n",
      "Epoch: 5 Loss: tensor(0.2452)\n",
      "Epoch: 6 Loss: tensor(0.2461)\n",
      "Epoch: 7 Loss: tensor(0.2469)\n",
      "Epoch: 8 Loss: tensor(0.2447)\n",
      "Epoch: 9 Loss: tensor(0.2448)\n",
      "Epoch: 10 Loss: tensor(0.2486)\n"
     ]
    }
   ],
   "source": [
    "# Training model\n",
    "nb_epoch = 10\n",
    "for epoch in range(1, nb_epoch + 1):\n",
    "    train_loss = 0\n",
    "    s = 0.\n",
    "    for id_user in range(0, nb_users - batch_size, batch_size):\n",
    "        vk = training_set[id_user : id_user + batch_size]\n",
    "        v0 = training_set[id_user : id_user + batch_size]\n",
    "        ph0,_ = rbm.sample_h(v0)\n",
    "#         Doing the k steps of CD\n",
    "        for k in range(10):\n",
    "            _,hk = rbm.sample_h(vk)\n",
    "            _,vk = rbm.sample_v(hk)\n",
    "#             To ensure that -1 ratings (not watched) mantain the same values\n",
    "            vk[v0 < 0] = v0[v0 < 0]\n",
    "        phk,_= rbm.sample_h(vk)\n",
    "        rbm.train(v0, vk, ph0, phk)\n",
    "#         Ensuring that -1 ratings (not watched) are not used to train the model\n",
    "        train_loss += torch.mean(torch.abs(v0[v0 >= 0] - vk[v0 >= 0]))\n",
    "        s += 1.\n",
    "    print('Epoch: ' + str(epoch) + ' Loss: ' + str(train_loss / s))"
   ]
  },
  {
   "cell_type": "code",
   "execution_count": 44,
   "metadata": {},
   "outputs": [
    {
     "name": "stdout",
     "output_type": "stream",
     "text": [
      "Test loss: 0.0\n"
     ]
    }
   ],
   "source": [
    "# Testing RBM\n",
    "test_loss = 0\n",
    "s = 0.\n",
    "for id_user in range(nb_users):\n",
    "    v = training_set[id_user : id_user + 1]\n",
    "    vt = test_set[id_user : id_user + 1]\n",
    "#     If the user left a rating, predict what it was\n",
    "    if len(vt[vt >= 0] > 0):\n",
    "        _,h = rbm.sample_h(v)\n",
    "        _,v = rbm.sample_v(h)\n",
    "        train_loss += torch.mean(torch.abs(vt[vt >= 0] - v[vt >= 0]))\n",
    "        s += 1.\n",
    "print('Test loss: ' + str(test_loss / s))"
   ]
  },
  {
   "cell_type": "code",
   "execution_count": 46,
   "metadata": {},
   "outputs": [
    {
     "data": {
      "text/plain": [
       "tensor([[-1., -1., -1.,  ..., -1., -1., -1.]])"
      ]
     },
     "execution_count": 46,
     "metadata": {},
     "output_type": "execute_result"
    }
   ],
   "source": []
  },
  {
   "cell_type": "code",
   "execution_count": null,
   "metadata": {},
   "outputs": [],
   "source": []
  }
 ],
 "metadata": {
  "kernelspec": {
   "display_name": "Python 3",
   "language": "python",
   "name": "python3"
  },
  "language_info": {
   "codemirror_mode": {
    "name": "ipython",
    "version": 3
   },
   "file_extension": ".py",
   "mimetype": "text/x-python",
   "name": "python",
   "nbconvert_exporter": "python",
   "pygments_lexer": "ipython3",
   "version": "3.7.7"
  }
 },
 "nbformat": 4,
 "nbformat_minor": 4
}
